{
 "cells": [
  {
   "cell_type": "code",
   "execution_count": 1,
   "id": "70ae734d",
   "metadata": {},
   "outputs": [
    {
     "name": "stdout",
     "output_type": "stream",
     "text": [
      "Requirement already satisfied: mysql-connector-python in c:\\users\\alexi\\anaconda3\\lib\\site-packages (8.0.32)\n",
      "Requirement already satisfied: protobuf<=3.20.3,>=3.11.0 in c:\\users\\alexi\\anaconda3\\lib\\site-packages (from mysql-connector-python) (3.20.3)\n",
      "Note: you may need to restart the kernel to use updated packages.\n"
     ]
    }
   ],
   "source": [
    "import pandas as pd\n",
    "import numpy as np\n",
    "%pip install mysql-connector-python\n",
    "import mysql.connector as conn"
   ]
  },
  {
   "cell_type": "code",
   "execution_count": 2,
   "id": "b8ee7a80",
   "metadata": {},
   "outputs": [],
   "source": [
    "actores=pd.read_csv('../data/actor.csv')\n",
    "categorias=pd.read_csv('../data/category.csv')\n",
    "peliculas=pd.read_csv('../data/film.csv')\n",
    "inventario=pd.read_csv('../data/inventory.csv')\n",
    "lenguaje=pd.read_csv('../data/language.csv')\n",
    "antiguo=pd.read_csv('../data/old_HDD.csv')\n",
    "alquileres=pd.read_csv('../data/rental.csv')"
   ]
  },
  {
   "cell_type": "code",
   "execution_count": 3,
   "id": "56e6a699",
   "metadata": {},
   "outputs": [
    {
     "data": {
      "text/html": [
       "<div>\n",
       "<style scoped>\n",
       "    .dataframe tbody tr th:only-of-type {\n",
       "        vertical-align: middle;\n",
       "    }\n",
       "\n",
       "    .dataframe tbody tr th {\n",
       "        vertical-align: top;\n",
       "    }\n",
       "\n",
       "    .dataframe thead th {\n",
       "        text-align: right;\n",
       "    }\n",
       "</style>\n",
       "<table border=\"1\" class=\"dataframe\">\n",
       "  <thead>\n",
       "    <tr style=\"text-align: right;\">\n",
       "      <th></th>\n",
       "      <th>actor_id</th>\n",
       "      <th>first_name</th>\n",
       "      <th>last_name</th>\n",
       "      <th>last_update</th>\n",
       "    </tr>\n",
       "  </thead>\n",
       "  <tbody>\n",
       "    <tr>\n",
       "      <th>0</th>\n",
       "      <td>1</td>\n",
       "      <td>PENELOPE</td>\n",
       "      <td>GUINESS</td>\n",
       "      <td>2006-02-15 04:34:33</td>\n",
       "    </tr>\n",
       "    <tr>\n",
       "      <th>1</th>\n",
       "      <td>2</td>\n",
       "      <td>NICK</td>\n",
       "      <td>WAHLBERG</td>\n",
       "      <td>2006-02-15 04:34:33</td>\n",
       "    </tr>\n",
       "    <tr>\n",
       "      <th>2</th>\n",
       "      <td>3</td>\n",
       "      <td>ED</td>\n",
       "      <td>CHASE</td>\n",
       "      <td>2006-02-15 04:34:33</td>\n",
       "    </tr>\n",
       "    <tr>\n",
       "      <th>3</th>\n",
       "      <td>4</td>\n",
       "      <td>JENNIFER</td>\n",
       "      <td>DAVIS</td>\n",
       "      <td>2006-02-15 04:34:33</td>\n",
       "    </tr>\n",
       "    <tr>\n",
       "      <th>4</th>\n",
       "      <td>5</td>\n",
       "      <td>JOHNNY</td>\n",
       "      <td>LOLLOBRIGIDA</td>\n",
       "      <td>2006-02-15 04:34:33</td>\n",
       "    </tr>\n",
       "  </tbody>\n",
       "</table>\n",
       "</div>"
      ],
      "text/plain": [
       "   actor_id first_name     last_name          last_update\n",
       "0         1   PENELOPE       GUINESS  2006-02-15 04:34:33\n",
       "1         2       NICK      WAHLBERG  2006-02-15 04:34:33\n",
       "2         3         ED         CHASE  2006-02-15 04:34:33\n",
       "3         4   JENNIFER         DAVIS  2006-02-15 04:34:33\n",
       "4         5     JOHNNY  LOLLOBRIGIDA  2006-02-15 04:34:33"
      ]
     },
     "execution_count": 3,
     "metadata": {},
     "output_type": "execute_result"
    }
   ],
   "source": [
    "actores.head()"
   ]
  },
  {
   "cell_type": "code",
   "execution_count": 4,
   "id": "11bc9092",
   "metadata": {},
   "outputs": [
    {
     "data": {
      "text/html": [
       "<div>\n",
       "<style scoped>\n",
       "    .dataframe tbody tr th:only-of-type {\n",
       "        vertical-align: middle;\n",
       "    }\n",
       "\n",
       "    .dataframe tbody tr th {\n",
       "        vertical-align: top;\n",
       "    }\n",
       "\n",
       "    .dataframe thead th {\n",
       "        text-align: right;\n",
       "    }\n",
       "</style>\n",
       "<table border=\"1\" class=\"dataframe\">\n",
       "  <thead>\n",
       "    <tr style=\"text-align: right;\">\n",
       "      <th></th>\n",
       "      <th>category_id</th>\n",
       "      <th>name</th>\n",
       "      <th>last_update</th>\n",
       "    </tr>\n",
       "  </thead>\n",
       "  <tbody>\n",
       "    <tr>\n",
       "      <th>0</th>\n",
       "      <td>1</td>\n",
       "      <td>Action</td>\n",
       "      <td>2006-02-15 04:46:27</td>\n",
       "    </tr>\n",
       "    <tr>\n",
       "      <th>1</th>\n",
       "      <td>2</td>\n",
       "      <td>Animation</td>\n",
       "      <td>2006-02-15 04:46:27</td>\n",
       "    </tr>\n",
       "    <tr>\n",
       "      <th>2</th>\n",
       "      <td>3</td>\n",
       "      <td>Children</td>\n",
       "      <td>2006-02-15 04:46:27</td>\n",
       "    </tr>\n",
       "    <tr>\n",
       "      <th>3</th>\n",
       "      <td>4</td>\n",
       "      <td>Classics</td>\n",
       "      <td>2006-02-15 04:46:27</td>\n",
       "    </tr>\n",
       "    <tr>\n",
       "      <th>4</th>\n",
       "      <td>5</td>\n",
       "      <td>Comedy</td>\n",
       "      <td>2006-02-15 04:46:27</td>\n",
       "    </tr>\n",
       "  </tbody>\n",
       "</table>\n",
       "</div>"
      ],
      "text/plain": [
       "   category_id       name          last_update\n",
       "0            1     Action  2006-02-15 04:46:27\n",
       "1            2  Animation  2006-02-15 04:46:27\n",
       "2            3   Children  2006-02-15 04:46:27\n",
       "3            4   Classics  2006-02-15 04:46:27\n",
       "4            5     Comedy  2006-02-15 04:46:27"
      ]
     },
     "execution_count": 4,
     "metadata": {},
     "output_type": "execute_result"
    }
   ],
   "source": [
    "categorias.head()"
   ]
  },
  {
   "cell_type": "code",
   "execution_count": 5,
   "id": "20f622af",
   "metadata": {},
   "outputs": [
    {
     "data": {
      "text/html": [
       "<div>\n",
       "<style scoped>\n",
       "    .dataframe tbody tr th:only-of-type {\n",
       "        vertical-align: middle;\n",
       "    }\n",
       "\n",
       "    .dataframe tbody tr th {\n",
       "        vertical-align: top;\n",
       "    }\n",
       "\n",
       "    .dataframe thead th {\n",
       "        text-align: right;\n",
       "    }\n",
       "</style>\n",
       "<table border=\"1\" class=\"dataframe\">\n",
       "  <thead>\n",
       "    <tr style=\"text-align: right;\">\n",
       "      <th></th>\n",
       "      <th>film_id</th>\n",
       "      <th>title</th>\n",
       "      <th>description</th>\n",
       "      <th>release_year</th>\n",
       "      <th>language_id</th>\n",
       "      <th>original_language_id</th>\n",
       "      <th>rental_duration</th>\n",
       "      <th>rental_rate</th>\n",
       "      <th>length</th>\n",
       "      <th>replacement_cost</th>\n",
       "      <th>rating</th>\n",
       "      <th>special_features</th>\n",
       "      <th>last_update</th>\n",
       "    </tr>\n",
       "  </thead>\n",
       "  <tbody>\n",
       "    <tr>\n",
       "      <th>0</th>\n",
       "      <td>1</td>\n",
       "      <td>ACADEMY DINOSAUR</td>\n",
       "      <td>A Epic Drama of a Feminist And a Mad Scientist...</td>\n",
       "      <td>2006</td>\n",
       "      <td>1</td>\n",
       "      <td>NaN</td>\n",
       "      <td>6</td>\n",
       "      <td>0.99</td>\n",
       "      <td>86</td>\n",
       "      <td>20.99</td>\n",
       "      <td>PG</td>\n",
       "      <td>Deleted Scenes,Behind the Scenes</td>\n",
       "      <td>2006-02-15 05:03:42</td>\n",
       "    </tr>\n",
       "    <tr>\n",
       "      <th>1</th>\n",
       "      <td>2</td>\n",
       "      <td>ACE GOLDFINGER</td>\n",
       "      <td>A Astounding Epistle of a Database Administrat...</td>\n",
       "      <td>2006</td>\n",
       "      <td>1</td>\n",
       "      <td>NaN</td>\n",
       "      <td>3</td>\n",
       "      <td>4.99</td>\n",
       "      <td>48</td>\n",
       "      <td>12.99</td>\n",
       "      <td>G</td>\n",
       "      <td>Trailers,Deleted Scenes</td>\n",
       "      <td>2006-02-15 05:03:42</td>\n",
       "    </tr>\n",
       "    <tr>\n",
       "      <th>2</th>\n",
       "      <td>3</td>\n",
       "      <td>ADAPTATION HOLES</td>\n",
       "      <td>A Astounding Reflection of a Lumberjack And a ...</td>\n",
       "      <td>2006</td>\n",
       "      <td>1</td>\n",
       "      <td>NaN</td>\n",
       "      <td>7</td>\n",
       "      <td>2.99</td>\n",
       "      <td>50</td>\n",
       "      <td>18.99</td>\n",
       "      <td>NC-17</td>\n",
       "      <td>Trailers,Deleted Scenes</td>\n",
       "      <td>2006-02-15 05:03:42</td>\n",
       "    </tr>\n",
       "    <tr>\n",
       "      <th>3</th>\n",
       "      <td>4</td>\n",
       "      <td>AFFAIR PREJUDICE</td>\n",
       "      <td>A Fanciful Documentary of a Frisbee And a Lumb...</td>\n",
       "      <td>2006</td>\n",
       "      <td>1</td>\n",
       "      <td>NaN</td>\n",
       "      <td>5</td>\n",
       "      <td>2.99</td>\n",
       "      <td>117</td>\n",
       "      <td>26.99</td>\n",
       "      <td>G</td>\n",
       "      <td>Commentaries,Behind the Scenes</td>\n",
       "      <td>2006-02-15 05:03:42</td>\n",
       "    </tr>\n",
       "    <tr>\n",
       "      <th>4</th>\n",
       "      <td>5</td>\n",
       "      <td>AFRICAN EGG</td>\n",
       "      <td>A Fast-Paced Documentary of a Pastry Chef And ...</td>\n",
       "      <td>2006</td>\n",
       "      <td>1</td>\n",
       "      <td>NaN</td>\n",
       "      <td>6</td>\n",
       "      <td>2.99</td>\n",
       "      <td>130</td>\n",
       "      <td>22.99</td>\n",
       "      <td>G</td>\n",
       "      <td>Deleted Scenes</td>\n",
       "      <td>2006-02-15 05:03:42</td>\n",
       "    </tr>\n",
       "  </tbody>\n",
       "</table>\n",
       "</div>"
      ],
      "text/plain": [
       "   film_id             title  \\\n",
       "0        1  ACADEMY DINOSAUR   \n",
       "1        2    ACE GOLDFINGER   \n",
       "2        3  ADAPTATION HOLES   \n",
       "3        4  AFFAIR PREJUDICE   \n",
       "4        5       AFRICAN EGG   \n",
       "\n",
       "                                         description  release_year  \\\n",
       "0  A Epic Drama of a Feminist And a Mad Scientist...          2006   \n",
       "1  A Astounding Epistle of a Database Administrat...          2006   \n",
       "2  A Astounding Reflection of a Lumberjack And a ...          2006   \n",
       "3  A Fanciful Documentary of a Frisbee And a Lumb...          2006   \n",
       "4  A Fast-Paced Documentary of a Pastry Chef And ...          2006   \n",
       "\n",
       "   language_id  original_language_id  rental_duration  rental_rate  length  \\\n",
       "0            1                   NaN                6         0.99      86   \n",
       "1            1                   NaN                3         4.99      48   \n",
       "2            1                   NaN                7         2.99      50   \n",
       "3            1                   NaN                5         2.99     117   \n",
       "4            1                   NaN                6         2.99     130   \n",
       "\n",
       "   replacement_cost rating                  special_features  \\\n",
       "0             20.99     PG  Deleted Scenes,Behind the Scenes   \n",
       "1             12.99      G           Trailers,Deleted Scenes   \n",
       "2             18.99  NC-17           Trailers,Deleted Scenes   \n",
       "3             26.99      G    Commentaries,Behind the Scenes   \n",
       "4             22.99      G                    Deleted Scenes   \n",
       "\n",
       "           last_update  \n",
       "0  2006-02-15 05:03:42  \n",
       "1  2006-02-15 05:03:42  \n",
       "2  2006-02-15 05:03:42  \n",
       "3  2006-02-15 05:03:42  \n",
       "4  2006-02-15 05:03:42  "
      ]
     },
     "execution_count": 5,
     "metadata": {},
     "output_type": "execute_result"
    }
   ],
   "source": [
    "peliculas.head()"
   ]
  },
  {
   "cell_type": "code",
   "execution_count": 6,
   "id": "b24b4326",
   "metadata": {},
   "outputs": [
    {
     "data": {
      "text/html": [
       "<div>\n",
       "<style scoped>\n",
       "    .dataframe tbody tr th:only-of-type {\n",
       "        vertical-align: middle;\n",
       "    }\n",
       "\n",
       "    .dataframe tbody tr th {\n",
       "        vertical-align: top;\n",
       "    }\n",
       "\n",
       "    .dataframe thead th {\n",
       "        text-align: right;\n",
       "    }\n",
       "</style>\n",
       "<table border=\"1\" class=\"dataframe\">\n",
       "  <thead>\n",
       "    <tr style=\"text-align: right;\">\n",
       "      <th></th>\n",
       "      <th>inventory_id</th>\n",
       "      <th>film_id</th>\n",
       "      <th>store_id</th>\n",
       "      <th>last_update</th>\n",
       "    </tr>\n",
       "  </thead>\n",
       "  <tbody>\n",
       "    <tr>\n",
       "      <th>0</th>\n",
       "      <td>1</td>\n",
       "      <td>1</td>\n",
       "      <td>1</td>\n",
       "      <td>2006-02-15 05:09:17</td>\n",
       "    </tr>\n",
       "    <tr>\n",
       "      <th>1</th>\n",
       "      <td>2</td>\n",
       "      <td>1</td>\n",
       "      <td>1</td>\n",
       "      <td>2006-02-15 05:09:17</td>\n",
       "    </tr>\n",
       "    <tr>\n",
       "      <th>2</th>\n",
       "      <td>3</td>\n",
       "      <td>1</td>\n",
       "      <td>1</td>\n",
       "      <td>2006-02-15 05:09:17</td>\n",
       "    </tr>\n",
       "    <tr>\n",
       "      <th>3</th>\n",
       "      <td>4</td>\n",
       "      <td>1</td>\n",
       "      <td>1</td>\n",
       "      <td>2006-02-15 05:09:17</td>\n",
       "    </tr>\n",
       "    <tr>\n",
       "      <th>4</th>\n",
       "      <td>5</td>\n",
       "      <td>1</td>\n",
       "      <td>2</td>\n",
       "      <td>2006-02-15 05:09:17</td>\n",
       "    </tr>\n",
       "  </tbody>\n",
       "</table>\n",
       "</div>"
      ],
      "text/plain": [
       "   inventory_id  film_id  store_id          last_update\n",
       "0             1        1         1  2006-02-15 05:09:17\n",
       "1             2        1         1  2006-02-15 05:09:17\n",
       "2             3        1         1  2006-02-15 05:09:17\n",
       "3             4        1         1  2006-02-15 05:09:17\n",
       "4             5        1         2  2006-02-15 05:09:17"
      ]
     },
     "execution_count": 6,
     "metadata": {},
     "output_type": "execute_result"
    }
   ],
   "source": [
    "inventario.head()"
   ]
  },
  {
   "cell_type": "code",
   "execution_count": 7,
   "id": "fe02fbcc",
   "metadata": {},
   "outputs": [
    {
     "data": {
      "text/html": [
       "<div>\n",
       "<style scoped>\n",
       "    .dataframe tbody tr th:only-of-type {\n",
       "        vertical-align: middle;\n",
       "    }\n",
       "\n",
       "    .dataframe tbody tr th {\n",
       "        vertical-align: top;\n",
       "    }\n",
       "\n",
       "    .dataframe thead th {\n",
       "        text-align: right;\n",
       "    }\n",
       "</style>\n",
       "<table border=\"1\" class=\"dataframe\">\n",
       "  <thead>\n",
       "    <tr style=\"text-align: right;\">\n",
       "      <th></th>\n",
       "      <th>language_id</th>\n",
       "      <th>name</th>\n",
       "      <th>last_update</th>\n",
       "    </tr>\n",
       "  </thead>\n",
       "  <tbody>\n",
       "    <tr>\n",
       "      <th>0</th>\n",
       "      <td>1</td>\n",
       "      <td>English</td>\n",
       "      <td>2006-02-15 05:02:19</td>\n",
       "    </tr>\n",
       "    <tr>\n",
       "      <th>1</th>\n",
       "      <td>2</td>\n",
       "      <td>Italian</td>\n",
       "      <td>2006-02-15 05:02:19</td>\n",
       "    </tr>\n",
       "    <tr>\n",
       "      <th>2</th>\n",
       "      <td>3</td>\n",
       "      <td>Japanese</td>\n",
       "      <td>2006-02-15 05:02:19</td>\n",
       "    </tr>\n",
       "    <tr>\n",
       "      <th>3</th>\n",
       "      <td>4</td>\n",
       "      <td>Mandarin</td>\n",
       "      <td>2006-02-15 05:02:19</td>\n",
       "    </tr>\n",
       "    <tr>\n",
       "      <th>4</th>\n",
       "      <td>5</td>\n",
       "      <td>French</td>\n",
       "      <td>2006-02-15 05:02:19</td>\n",
       "    </tr>\n",
       "  </tbody>\n",
       "</table>\n",
       "</div>"
      ],
      "text/plain": [
       "   language_id      name          last_update\n",
       "0            1   English  2006-02-15 05:02:19\n",
       "1            2   Italian  2006-02-15 05:02:19\n",
       "2            3  Japanese  2006-02-15 05:02:19\n",
       "3            4  Mandarin  2006-02-15 05:02:19\n",
       "4            5    French  2006-02-15 05:02:19"
      ]
     },
     "execution_count": 7,
     "metadata": {},
     "output_type": "execute_result"
    }
   ],
   "source": [
    "lenguaje.head()"
   ]
  },
  {
   "cell_type": "code",
   "execution_count": 8,
   "id": "87c35899",
   "metadata": {},
   "outputs": [
    {
     "data": {
      "text/html": [
       "<div>\n",
       "<style scoped>\n",
       "    .dataframe tbody tr th:only-of-type {\n",
       "        vertical-align: middle;\n",
       "    }\n",
       "\n",
       "    .dataframe tbody tr th {\n",
       "        vertical-align: top;\n",
       "    }\n",
       "\n",
       "    .dataframe thead th {\n",
       "        text-align: right;\n",
       "    }\n",
       "</style>\n",
       "<table border=\"1\" class=\"dataframe\">\n",
       "  <thead>\n",
       "    <tr style=\"text-align: right;\">\n",
       "      <th></th>\n",
       "      <th>first_name</th>\n",
       "      <th>last_name</th>\n",
       "      <th>title</th>\n",
       "      <th>release_year</th>\n",
       "      <th>category_id</th>\n",
       "    </tr>\n",
       "  </thead>\n",
       "  <tbody>\n",
       "    <tr>\n",
       "      <th>0</th>\n",
       "      <td>PENELOPE</td>\n",
       "      <td>GUINESS</td>\n",
       "      <td>ACADEMY DINOSAUR</td>\n",
       "      <td>2006</td>\n",
       "      <td>6</td>\n",
       "    </tr>\n",
       "    <tr>\n",
       "      <th>1</th>\n",
       "      <td>PENELOPE</td>\n",
       "      <td>GUINESS</td>\n",
       "      <td>ANACONDA CONFESSIONS</td>\n",
       "      <td>2006</td>\n",
       "      <td>2</td>\n",
       "    </tr>\n",
       "    <tr>\n",
       "      <th>2</th>\n",
       "      <td>PENELOPE</td>\n",
       "      <td>GUINESS</td>\n",
       "      <td>ANGELS LIFE</td>\n",
       "      <td>2006</td>\n",
       "      <td>13</td>\n",
       "    </tr>\n",
       "    <tr>\n",
       "      <th>3</th>\n",
       "      <td>PENELOPE</td>\n",
       "      <td>GUINESS</td>\n",
       "      <td>BULWORTH COMMANDMENTS</td>\n",
       "      <td>2006</td>\n",
       "      <td>10</td>\n",
       "    </tr>\n",
       "    <tr>\n",
       "      <th>4</th>\n",
       "      <td>PENELOPE</td>\n",
       "      <td>GUINESS</td>\n",
       "      <td>CHEAPER CLYDE</td>\n",
       "      <td>2006</td>\n",
       "      <td>14</td>\n",
       "    </tr>\n",
       "  </tbody>\n",
       "</table>\n",
       "</div>"
      ],
      "text/plain": [
       "  first_name last_name                  title  release_year  category_id\n",
       "0   PENELOPE   GUINESS       ACADEMY DINOSAUR          2006            6\n",
       "1   PENELOPE   GUINESS   ANACONDA CONFESSIONS          2006            2\n",
       "2   PENELOPE   GUINESS            ANGELS LIFE          2006           13\n",
       "3   PENELOPE   GUINESS  BULWORTH COMMANDMENTS          2006           10\n",
       "4   PENELOPE   GUINESS          CHEAPER CLYDE          2006           14"
      ]
     },
     "execution_count": 8,
     "metadata": {},
     "output_type": "execute_result"
    }
   ],
   "source": [
    "antiguo.head()"
   ]
  },
  {
   "cell_type": "code",
   "execution_count": 9,
   "id": "f70f05ee",
   "metadata": {},
   "outputs": [
    {
     "data": {
      "text/html": [
       "<div>\n",
       "<style scoped>\n",
       "    .dataframe tbody tr th:only-of-type {\n",
       "        vertical-align: middle;\n",
       "    }\n",
       "\n",
       "    .dataframe tbody tr th {\n",
       "        vertical-align: top;\n",
       "    }\n",
       "\n",
       "    .dataframe thead th {\n",
       "        text-align: right;\n",
       "    }\n",
       "</style>\n",
       "<table border=\"1\" class=\"dataframe\">\n",
       "  <thead>\n",
       "    <tr style=\"text-align: right;\">\n",
       "      <th></th>\n",
       "      <th>rental_id</th>\n",
       "      <th>rental_date</th>\n",
       "      <th>inventory_id</th>\n",
       "      <th>customer_id</th>\n",
       "      <th>return_date</th>\n",
       "      <th>staff_id</th>\n",
       "      <th>last_update</th>\n",
       "    </tr>\n",
       "  </thead>\n",
       "  <tbody>\n",
       "    <tr>\n",
       "      <th>0</th>\n",
       "      <td>1</td>\n",
       "      <td>2005-05-24 22:53:30</td>\n",
       "      <td>367</td>\n",
       "      <td>130</td>\n",
       "      <td>2005-05-26 22:04:30</td>\n",
       "      <td>1</td>\n",
       "      <td>2006-02-15 21:30:53</td>\n",
       "    </tr>\n",
       "    <tr>\n",
       "      <th>1</th>\n",
       "      <td>2</td>\n",
       "      <td>2005-05-24 22:54:33</td>\n",
       "      <td>1525</td>\n",
       "      <td>459</td>\n",
       "      <td>2005-05-28 19:40:33</td>\n",
       "      <td>1</td>\n",
       "      <td>2006-02-15 21:30:53</td>\n",
       "    </tr>\n",
       "    <tr>\n",
       "      <th>2</th>\n",
       "      <td>3</td>\n",
       "      <td>2005-05-24 23:03:39</td>\n",
       "      <td>1711</td>\n",
       "      <td>408</td>\n",
       "      <td>2005-06-01 22:12:39</td>\n",
       "      <td>1</td>\n",
       "      <td>2006-02-15 21:30:53</td>\n",
       "    </tr>\n",
       "    <tr>\n",
       "      <th>3</th>\n",
       "      <td>4</td>\n",
       "      <td>2005-05-24 23:04:41</td>\n",
       "      <td>2452</td>\n",
       "      <td>333</td>\n",
       "      <td>2005-06-03 01:43:41</td>\n",
       "      <td>2</td>\n",
       "      <td>2006-02-15 21:30:53</td>\n",
       "    </tr>\n",
       "    <tr>\n",
       "      <th>4</th>\n",
       "      <td>5</td>\n",
       "      <td>2005-05-24 23:05:21</td>\n",
       "      <td>2079</td>\n",
       "      <td>222</td>\n",
       "      <td>2005-06-02 04:33:21</td>\n",
       "      <td>1</td>\n",
       "      <td>2006-02-15 21:30:53</td>\n",
       "    </tr>\n",
       "  </tbody>\n",
       "</table>\n",
       "</div>"
      ],
      "text/plain": [
       "   rental_id          rental_date  inventory_id  customer_id  \\\n",
       "0          1  2005-05-24 22:53:30           367          130   \n",
       "1          2  2005-05-24 22:54:33          1525          459   \n",
       "2          3  2005-05-24 23:03:39          1711          408   \n",
       "3          4  2005-05-24 23:04:41          2452          333   \n",
       "4          5  2005-05-24 23:05:21          2079          222   \n",
       "\n",
       "           return_date  staff_id          last_update  \n",
       "0  2005-05-26 22:04:30         1  2006-02-15 21:30:53  \n",
       "1  2005-05-28 19:40:33         1  2006-02-15 21:30:53  \n",
       "2  2005-06-01 22:12:39         1  2006-02-15 21:30:53  \n",
       "3  2005-06-03 01:43:41         2  2006-02-15 21:30:53  \n",
       "4  2005-06-02 04:33:21         1  2006-02-15 21:30:53  "
      ]
     },
     "execution_count": 9,
     "metadata": {},
     "output_type": "execute_result"
    }
   ],
   "source": [
    "alquileres.head()"
   ]
  },
  {
   "cell_type": "code",
   "execution_count": 10,
   "id": "73e120cf",
   "metadata": {},
   "outputs": [],
   "source": [
    "def limpiar_dataframe(df):\n",
    "    #La columna last_update la combio a formato fecha eliminando la hora ya que no me significa nada saber a que hora fue actualizado\n",
    "    if 'last_update' in df.columns:\n",
    "        df['last_update'] = pd.to_datetime(df['last_update'], format='%Y-%m-%d')\n",
    "        \n",
    "# Rellenar los valores nulos con 'NoInfo'.\n",
    "    df.fillna('NoInfo', inplace=True)"
   ]
  },
  {
   "cell_type": "code",
   "execution_count": 11,
   "id": "84a4ff4a",
   "metadata": {},
   "outputs": [],
   "source": [
    "# Limpio todas los dataframes menos antiguo que no posee la columna last_update\n",
    "limpiar_dataframe(actores)\n",
    "limpiar_dataframe(categorias)\n",
    "limpiar_dataframe(peliculas)\n",
    "limpiar_dataframe(inventario)\n",
    "limpiar_dataframe(lenguaje)\n",
    "limpiar_dataframe(alquileres)"
   ]
  },
  {
   "cell_type": "code",
   "execution_count": 12,
   "id": "10b40327",
   "metadata": {},
   "outputs": [
    {
     "name": "stdout",
     "output_type": "stream",
     "text": [
      "<class 'pandas.core.frame.DataFrame'>\n",
      "RangeIndex: 200 entries, 0 to 199\n",
      "Data columns (total 4 columns):\n",
      " #   Column       Non-Null Count  Dtype         \n",
      "---  ------       --------------  -----         \n",
      " 0   actor_id     200 non-null    int64         \n",
      " 1   first_name   200 non-null    object        \n",
      " 2   last_name    200 non-null    object        \n",
      " 3   last_update  200 non-null    datetime64[ns]\n",
      "dtypes: datetime64[ns](1), int64(1), object(2)\n",
      "memory usage: 6.4+ KB\n"
     ]
    }
   ],
   "source": [
    "actores.info()"
   ]
  },
  {
   "cell_type": "code",
   "execution_count": 13,
   "id": "804dc71a",
   "metadata": {},
   "outputs": [],
   "source": [
    "# pongo las titulos de las columnas de todos mis data frames y la infomacion comenzando por mayusculula\n",
    "actores.columns = actores.columns.str.title()\n",
    "categorias.columns = categorias.columns.str.title()\n",
    "peliculas.columns = peliculas.columns.str.title()\n",
    "inventario.columns = inventario.columns.str.title()\n",
    "lenguaje.columns = lenguaje.columns.str.title()\n",
    "antiguo.columns = antiguo.columns.str.title()\n",
    "alquileres.columns = alquileres.columns.str.title()"
   ]
  },
  {
   "cell_type": "code",
   "execution_count": 14,
   "id": "8873eed3",
   "metadata": {},
   "outputs": [
    {
     "data": {
      "text/html": [
       "<div>\n",
       "<style scoped>\n",
       "    .dataframe tbody tr th:only-of-type {\n",
       "        vertical-align: middle;\n",
       "    }\n",
       "\n",
       "    .dataframe tbody tr th {\n",
       "        vertical-align: top;\n",
       "    }\n",
       "\n",
       "    .dataframe thead th {\n",
       "        text-align: right;\n",
       "    }\n",
       "</style>\n",
       "<table border=\"1\" class=\"dataframe\">\n",
       "  <thead>\n",
       "    <tr style=\"text-align: right;\">\n",
       "      <th></th>\n",
       "      <th>First_Name</th>\n",
       "      <th>Last_Name</th>\n",
       "      <th>Title</th>\n",
       "      <th>Release_Year</th>\n",
       "      <th>Category_Id</th>\n",
       "    </tr>\n",
       "  </thead>\n",
       "  <tbody>\n",
       "    <tr>\n",
       "      <th>0</th>\n",
       "      <td>PENELOPE</td>\n",
       "      <td>GUINESS</td>\n",
       "      <td>ACADEMY DINOSAUR</td>\n",
       "      <td>2006</td>\n",
       "      <td>6</td>\n",
       "    </tr>\n",
       "    <tr>\n",
       "      <th>1</th>\n",
       "      <td>PENELOPE</td>\n",
       "      <td>GUINESS</td>\n",
       "      <td>ANACONDA CONFESSIONS</td>\n",
       "      <td>2006</td>\n",
       "      <td>2</td>\n",
       "    </tr>\n",
       "    <tr>\n",
       "      <th>2</th>\n",
       "      <td>PENELOPE</td>\n",
       "      <td>GUINESS</td>\n",
       "      <td>ANGELS LIFE</td>\n",
       "      <td>2006</td>\n",
       "      <td>13</td>\n",
       "    </tr>\n",
       "    <tr>\n",
       "      <th>3</th>\n",
       "      <td>PENELOPE</td>\n",
       "      <td>GUINESS</td>\n",
       "      <td>BULWORTH COMMANDMENTS</td>\n",
       "      <td>2006</td>\n",
       "      <td>10</td>\n",
       "    </tr>\n",
       "    <tr>\n",
       "      <th>4</th>\n",
       "      <td>PENELOPE</td>\n",
       "      <td>GUINESS</td>\n",
       "      <td>CHEAPER CLYDE</td>\n",
       "      <td>2006</td>\n",
       "      <td>14</td>\n",
       "    </tr>\n",
       "  </tbody>\n",
       "</table>\n",
       "</div>"
      ],
      "text/plain": [
       "  First_Name Last_Name                  Title  Release_Year  Category_Id\n",
       "0   PENELOPE   GUINESS       ACADEMY DINOSAUR          2006            6\n",
       "1   PENELOPE   GUINESS   ANACONDA CONFESSIONS          2006            2\n",
       "2   PENELOPE   GUINESS            ANGELS LIFE          2006           13\n",
       "3   PENELOPE   GUINESS  BULWORTH COMMANDMENTS          2006           10\n",
       "4   PENELOPE   GUINESS          CHEAPER CLYDE          2006           14"
      ]
     },
     "execution_count": 14,
     "metadata": {},
     "output_type": "execute_result"
    }
   ],
   "source": [
    "antiguo.head()"
   ]
  },
  {
   "cell_type": "code",
   "execution_count": 15,
   "id": "6948cc7a",
   "metadata": {},
   "outputs": [
    {
     "name": "stdout",
     "output_type": "stream",
     "text": [
      "<class 'pandas.core.frame.DataFrame'>\n",
      "RangeIndex: 1000 entries, 0 to 999\n",
      "Data columns (total 5 columns):\n",
      " #   Column        Non-Null Count  Dtype \n",
      "---  ------        --------------  ----- \n",
      " 0   First_Name    1000 non-null   object\n",
      " 1   Last_Name     1000 non-null   object\n",
      " 2   Title         1000 non-null   object\n",
      " 3   Release_Year  1000 non-null   int64 \n",
      " 4   Category_Id   1000 non-null   int64 \n",
      "dtypes: int64(2), object(3)\n",
      "memory usage: 39.2+ KB\n"
     ]
    }
   ],
   "source": [
    "antiguo.info()"
   ]
  },
  {
   "cell_type": "code",
   "execution_count": 16,
   "id": "6b3a8a04",
   "metadata": {},
   "outputs": [
    {
     "data": {
      "text/html": [
       "<div>\n",
       "<style scoped>\n",
       "    .dataframe tbody tr th:only-of-type {\n",
       "        vertical-align: middle;\n",
       "    }\n",
       "\n",
       "    .dataframe tbody tr th {\n",
       "        vertical-align: top;\n",
       "    }\n",
       "\n",
       "    .dataframe thead th {\n",
       "        text-align: right;\n",
       "    }\n",
       "</style>\n",
       "<table border=\"1\" class=\"dataframe\">\n",
       "  <thead>\n",
       "    <tr style=\"text-align: right;\">\n",
       "      <th></th>\n",
       "      <th>Actor_Id</th>\n",
       "      <th>First_Name</th>\n",
       "      <th>Last_Name</th>\n",
       "      <th>Last_Update</th>\n",
       "    </tr>\n",
       "  </thead>\n",
       "  <tbody>\n",
       "    <tr>\n",
       "      <th>195</th>\n",
       "      <td>196</td>\n",
       "      <td>BELA</td>\n",
       "      <td>WALKEN</td>\n",
       "      <td>2006-02-15 04:34:33</td>\n",
       "    </tr>\n",
       "    <tr>\n",
       "      <th>196</th>\n",
       "      <td>197</td>\n",
       "      <td>REESE</td>\n",
       "      <td>WEST</td>\n",
       "      <td>2006-02-15 04:34:33</td>\n",
       "    </tr>\n",
       "    <tr>\n",
       "      <th>197</th>\n",
       "      <td>198</td>\n",
       "      <td>MARY</td>\n",
       "      <td>KEITEL</td>\n",
       "      <td>2006-02-15 04:34:33</td>\n",
       "    </tr>\n",
       "    <tr>\n",
       "      <th>198</th>\n",
       "      <td>199</td>\n",
       "      <td>JULIA</td>\n",
       "      <td>FAWCETT</td>\n",
       "      <td>2006-02-15 04:34:33</td>\n",
       "    </tr>\n",
       "    <tr>\n",
       "      <th>199</th>\n",
       "      <td>200</td>\n",
       "      <td>THORA</td>\n",
       "      <td>TEMPLE</td>\n",
       "      <td>2006-02-15 04:34:33</td>\n",
       "    </tr>\n",
       "  </tbody>\n",
       "</table>\n",
       "</div>"
      ],
      "text/plain": [
       "     Actor_Id First_Name Last_Name         Last_Update\n",
       "195       196       BELA    WALKEN 2006-02-15 04:34:33\n",
       "196       197      REESE      WEST 2006-02-15 04:34:33\n",
       "197       198       MARY    KEITEL 2006-02-15 04:34:33\n",
       "198       199      JULIA   FAWCETT 2006-02-15 04:34:33\n",
       "199       200      THORA    TEMPLE 2006-02-15 04:34:33"
      ]
     },
     "execution_count": 16,
     "metadata": {},
     "output_type": "execute_result"
    }
   ],
   "source": [
    "actores.tail()"
   ]
  },
  {
   "cell_type": "code",
   "execution_count": 17,
   "id": "9997d906",
   "metadata": {},
   "outputs": [
    {
     "name": "stdout",
     "output_type": "stream",
     "text": [
      "<class 'pandas.core.series.Series'>\n",
      "RangeIndex: 1000 entries, 0 to 999\n",
      "Series name: Language_Id\n",
      "Non-Null Count  Dtype\n",
      "--------------  -----\n",
      "1000 non-null   int64\n",
      "dtypes: int64(1)\n",
      "memory usage: 7.9 KB\n"
     ]
    }
   ],
   "source": [
    "peliculas[\"Language_Id\"].info()"
   ]
  },
  {
   "cell_type": "code",
   "execution_count": 18,
   "id": "7315aa8e",
   "metadata": {},
   "outputs": [
    {
     "data": {
      "text/plain": [
       "array([1], dtype=int64)"
      ]
     },
     "execution_count": 18,
     "metadata": {},
     "output_type": "execute_result"
    }
   ],
   "source": [
    "peliculas[\"Language_Id\"].unique()"
   ]
  },
  {
   "cell_type": "code",
   "execution_count": 19,
   "id": "6d8323a0",
   "metadata": {},
   "outputs": [],
   "source": [
    "peliculas = peliculas.drop(['Original_Language_Id'], axis=1)\n",
    "#borro la columna original_language_id ya que tiene todos nulos y no me sirve para nada"
   ]
  },
  {
   "cell_type": "code",
   "execution_count": 20,
   "id": "a2f71876",
   "metadata": {},
   "outputs": [],
   "source": [
    "# Como esta columna tiene como valor unico '1' lo cambio todo por 'EN'\n",
    "peliculas.loc[:, 'Language_Id'] = 'EN'"
   ]
  },
  {
   "cell_type": "code",
   "execution_count": 21,
   "id": "52a7cfab",
   "metadata": {},
   "outputs": [],
   "source": [
    "actores['Full_Name'] = actores['Last_Name'] + ' ' + actores['First_Name']\n",
    "antiguo['Full_Name'] = antiguo['Last_Name'] + ' ' + antiguo['First_Name']\n",
    "# Junto first name y last name de los df actores y antiguo en una nueva columna que se llama full_name. \n",
    "# Simplifico en el nexo entre ambos df"
   ]
  },
  {
   "cell_type": "code",
   "execution_count": 22,
   "id": "245bf229",
   "metadata": {},
   "outputs": [],
   "source": [
    "# Hago un left join de antiguo con actores\n",
    "antiguo = antiguo.merge(actores, on = 'Full_Name', how='left')"
   ]
  },
  {
   "cell_type": "code",
   "execution_count": 23,
   "id": "8dedd9bf",
   "metadata": {},
   "outputs": [
    {
     "data": {
      "text/html": [
       "<div>\n",
       "<style scoped>\n",
       "    .dataframe tbody tr th:only-of-type {\n",
       "        vertical-align: middle;\n",
       "    }\n",
       "\n",
       "    .dataframe tbody tr th {\n",
       "        vertical-align: top;\n",
       "    }\n",
       "\n",
       "    .dataframe thead th {\n",
       "        text-align: right;\n",
       "    }\n",
       "</style>\n",
       "<table border=\"1\" class=\"dataframe\">\n",
       "  <thead>\n",
       "    <tr style=\"text-align: right;\">\n",
       "      <th></th>\n",
       "      <th>First_Name_x</th>\n",
       "      <th>Last_Name_x</th>\n",
       "      <th>Title</th>\n",
       "      <th>Release_Year</th>\n",
       "      <th>Category_Id</th>\n",
       "      <th>Full_Name</th>\n",
       "      <th>Actor_Id</th>\n",
       "      <th>First_Name_y</th>\n",
       "      <th>Last_Name_y</th>\n",
       "      <th>Last_Update</th>\n",
       "    </tr>\n",
       "  </thead>\n",
       "  <tbody>\n",
       "    <tr>\n",
       "      <th>0</th>\n",
       "      <td>PENELOPE</td>\n",
       "      <td>GUINESS</td>\n",
       "      <td>ACADEMY DINOSAUR</td>\n",
       "      <td>2006</td>\n",
       "      <td>6</td>\n",
       "      <td>GUINESS PENELOPE</td>\n",
       "      <td>1</td>\n",
       "      <td>PENELOPE</td>\n",
       "      <td>GUINESS</td>\n",
       "      <td>2006-02-15 04:34:33</td>\n",
       "    </tr>\n",
       "    <tr>\n",
       "      <th>1</th>\n",
       "      <td>PENELOPE</td>\n",
       "      <td>GUINESS</td>\n",
       "      <td>ANACONDA CONFESSIONS</td>\n",
       "      <td>2006</td>\n",
       "      <td>2</td>\n",
       "      <td>GUINESS PENELOPE</td>\n",
       "      <td>1</td>\n",
       "      <td>PENELOPE</td>\n",
       "      <td>GUINESS</td>\n",
       "      <td>2006-02-15 04:34:33</td>\n",
       "    </tr>\n",
       "    <tr>\n",
       "      <th>2</th>\n",
       "      <td>PENELOPE</td>\n",
       "      <td>GUINESS</td>\n",
       "      <td>ANGELS LIFE</td>\n",
       "      <td>2006</td>\n",
       "      <td>13</td>\n",
       "      <td>GUINESS PENELOPE</td>\n",
       "      <td>1</td>\n",
       "      <td>PENELOPE</td>\n",
       "      <td>GUINESS</td>\n",
       "      <td>2006-02-15 04:34:33</td>\n",
       "    </tr>\n",
       "    <tr>\n",
       "      <th>3</th>\n",
       "      <td>PENELOPE</td>\n",
       "      <td>GUINESS</td>\n",
       "      <td>BULWORTH COMMANDMENTS</td>\n",
       "      <td>2006</td>\n",
       "      <td>10</td>\n",
       "      <td>GUINESS PENELOPE</td>\n",
       "      <td>1</td>\n",
       "      <td>PENELOPE</td>\n",
       "      <td>GUINESS</td>\n",
       "      <td>2006-02-15 04:34:33</td>\n",
       "    </tr>\n",
       "    <tr>\n",
       "      <th>4</th>\n",
       "      <td>PENELOPE</td>\n",
       "      <td>GUINESS</td>\n",
       "      <td>CHEAPER CLYDE</td>\n",
       "      <td>2006</td>\n",
       "      <td>14</td>\n",
       "      <td>GUINESS PENELOPE</td>\n",
       "      <td>1</td>\n",
       "      <td>PENELOPE</td>\n",
       "      <td>GUINESS</td>\n",
       "      <td>2006-02-15 04:34:33</td>\n",
       "    </tr>\n",
       "  </tbody>\n",
       "</table>\n",
       "</div>"
      ],
      "text/plain": [
       "  First_Name_x Last_Name_x                  Title  Release_Year  Category_Id  \\\n",
       "0     PENELOPE     GUINESS       ACADEMY DINOSAUR          2006            6   \n",
       "1     PENELOPE     GUINESS   ANACONDA CONFESSIONS          2006            2   \n",
       "2     PENELOPE     GUINESS            ANGELS LIFE          2006           13   \n",
       "3     PENELOPE     GUINESS  BULWORTH COMMANDMENTS          2006           10   \n",
       "4     PENELOPE     GUINESS          CHEAPER CLYDE          2006           14   \n",
       "\n",
       "          Full_Name  Actor_Id First_Name_y Last_Name_y         Last_Update  \n",
       "0  GUINESS PENELOPE         1     PENELOPE     GUINESS 2006-02-15 04:34:33  \n",
       "1  GUINESS PENELOPE         1     PENELOPE     GUINESS 2006-02-15 04:34:33  \n",
       "2  GUINESS PENELOPE         1     PENELOPE     GUINESS 2006-02-15 04:34:33  \n",
       "3  GUINESS PENELOPE         1     PENELOPE     GUINESS 2006-02-15 04:34:33  \n",
       "4  GUINESS PENELOPE         1     PENELOPE     GUINESS 2006-02-15 04:34:33  "
      ]
     },
     "execution_count": 23,
     "metadata": {},
     "output_type": "execute_result"
    }
   ],
   "source": [
    "antiguo.head()\n",
    "# Debido al merge, me ha creado todas las columnas que tenia actores dentro de antiguo"
   ]
  },
  {
   "cell_type": "code",
   "execution_count": 24,
   "id": "89e75dea",
   "metadata": {},
   "outputs": [],
   "source": [
    "# Hago un left join de old_hdd con film.\n",
    "antiguo = antiguo.merge(peliculas, on= 'Title', how='left')"
   ]
  },
  {
   "cell_type": "code",
   "execution_count": 25,
   "id": "1003f66c",
   "metadata": {},
   "outputs": [
    {
     "data": {
      "text/html": [
       "<div>\n",
       "<style scoped>\n",
       "    .dataframe tbody tr th:only-of-type {\n",
       "        vertical-align: middle;\n",
       "    }\n",
       "\n",
       "    .dataframe tbody tr th {\n",
       "        vertical-align: top;\n",
       "    }\n",
       "\n",
       "    .dataframe thead th {\n",
       "        text-align: right;\n",
       "    }\n",
       "</style>\n",
       "<table border=\"1\" class=\"dataframe\">\n",
       "  <thead>\n",
       "    <tr style=\"text-align: right;\">\n",
       "      <th></th>\n",
       "      <th>First_Name_x</th>\n",
       "      <th>Last_Name_x</th>\n",
       "      <th>Title</th>\n",
       "      <th>Release_Year_x</th>\n",
       "      <th>Category_Id</th>\n",
       "      <th>Full_Name</th>\n",
       "      <th>Actor_Id</th>\n",
       "      <th>First_Name_y</th>\n",
       "      <th>Last_Name_y</th>\n",
       "      <th>Last_Update_x</th>\n",
       "      <th>...</th>\n",
       "      <th>Description</th>\n",
       "      <th>Release_Year_y</th>\n",
       "      <th>Language_Id</th>\n",
       "      <th>Rental_Duration</th>\n",
       "      <th>Rental_Rate</th>\n",
       "      <th>Length</th>\n",
       "      <th>Replacement_Cost</th>\n",
       "      <th>Rating</th>\n",
       "      <th>Special_Features</th>\n",
       "      <th>Last_Update_y</th>\n",
       "    </tr>\n",
       "  </thead>\n",
       "  <tbody>\n",
       "    <tr>\n",
       "      <th>0</th>\n",
       "      <td>PENELOPE</td>\n",
       "      <td>GUINESS</td>\n",
       "      <td>ACADEMY DINOSAUR</td>\n",
       "      <td>2006</td>\n",
       "      <td>6</td>\n",
       "      <td>GUINESS PENELOPE</td>\n",
       "      <td>1</td>\n",
       "      <td>PENELOPE</td>\n",
       "      <td>GUINESS</td>\n",
       "      <td>2006-02-15 04:34:33</td>\n",
       "      <td>...</td>\n",
       "      <td>A Epic Drama of a Feminist And a Mad Scientist...</td>\n",
       "      <td>2006</td>\n",
       "      <td>EN</td>\n",
       "      <td>6</td>\n",
       "      <td>0.99</td>\n",
       "      <td>86</td>\n",
       "      <td>20.99</td>\n",
       "      <td>PG</td>\n",
       "      <td>Deleted Scenes,Behind the Scenes</td>\n",
       "      <td>2006-02-15 05:03:42</td>\n",
       "    </tr>\n",
       "    <tr>\n",
       "      <th>1</th>\n",
       "      <td>PENELOPE</td>\n",
       "      <td>GUINESS</td>\n",
       "      <td>ANACONDA CONFESSIONS</td>\n",
       "      <td>2006</td>\n",
       "      <td>2</td>\n",
       "      <td>GUINESS PENELOPE</td>\n",
       "      <td>1</td>\n",
       "      <td>PENELOPE</td>\n",
       "      <td>GUINESS</td>\n",
       "      <td>2006-02-15 04:34:33</td>\n",
       "      <td>...</td>\n",
       "      <td>A Lacklusture Display of a Dentist And a Denti...</td>\n",
       "      <td>2006</td>\n",
       "      <td>EN</td>\n",
       "      <td>3</td>\n",
       "      <td>0.99</td>\n",
       "      <td>92</td>\n",
       "      <td>9.99</td>\n",
       "      <td>R</td>\n",
       "      <td>Trailers,Deleted Scenes</td>\n",
       "      <td>2006-02-15 05:03:42</td>\n",
       "    </tr>\n",
       "    <tr>\n",
       "      <th>2</th>\n",
       "      <td>PENELOPE</td>\n",
       "      <td>GUINESS</td>\n",
       "      <td>ANGELS LIFE</td>\n",
       "      <td>2006</td>\n",
       "      <td>13</td>\n",
       "      <td>GUINESS PENELOPE</td>\n",
       "      <td>1</td>\n",
       "      <td>PENELOPE</td>\n",
       "      <td>GUINESS</td>\n",
       "      <td>2006-02-15 04:34:33</td>\n",
       "      <td>...</td>\n",
       "      <td>A Thoughtful Display of a Woman And a Astronau...</td>\n",
       "      <td>2006</td>\n",
       "      <td>EN</td>\n",
       "      <td>3</td>\n",
       "      <td>2.99</td>\n",
       "      <td>74</td>\n",
       "      <td>15.99</td>\n",
       "      <td>G</td>\n",
       "      <td>Trailers</td>\n",
       "      <td>2006-02-15 05:03:42</td>\n",
       "    </tr>\n",
       "    <tr>\n",
       "      <th>3</th>\n",
       "      <td>PENELOPE</td>\n",
       "      <td>GUINESS</td>\n",
       "      <td>BULWORTH COMMANDMENTS</td>\n",
       "      <td>2006</td>\n",
       "      <td>10</td>\n",
       "      <td>GUINESS PENELOPE</td>\n",
       "      <td>1</td>\n",
       "      <td>PENELOPE</td>\n",
       "      <td>GUINESS</td>\n",
       "      <td>2006-02-15 04:34:33</td>\n",
       "      <td>...</td>\n",
       "      <td>A Amazing Display of a Mad Cow And a Pioneer w...</td>\n",
       "      <td>2006</td>\n",
       "      <td>EN</td>\n",
       "      <td>4</td>\n",
       "      <td>2.99</td>\n",
       "      <td>61</td>\n",
       "      <td>14.99</td>\n",
       "      <td>G</td>\n",
       "      <td>Trailers</td>\n",
       "      <td>2006-02-15 05:03:42</td>\n",
       "    </tr>\n",
       "    <tr>\n",
       "      <th>4</th>\n",
       "      <td>PENELOPE</td>\n",
       "      <td>GUINESS</td>\n",
       "      <td>CHEAPER CLYDE</td>\n",
       "      <td>2006</td>\n",
       "      <td>14</td>\n",
       "      <td>GUINESS PENELOPE</td>\n",
       "      <td>1</td>\n",
       "      <td>PENELOPE</td>\n",
       "      <td>GUINESS</td>\n",
       "      <td>2006-02-15 04:34:33</td>\n",
       "      <td>...</td>\n",
       "      <td>A Emotional Character Study of a Pioneer And a...</td>\n",
       "      <td>2006</td>\n",
       "      <td>EN</td>\n",
       "      <td>6</td>\n",
       "      <td>0.99</td>\n",
       "      <td>87</td>\n",
       "      <td>23.99</td>\n",
       "      <td>G</td>\n",
       "      <td>Trailers,Commentaries,Behind the Scenes</td>\n",
       "      <td>2006-02-15 05:03:42</td>\n",
       "    </tr>\n",
       "  </tbody>\n",
       "</table>\n",
       "<p>5 rows × 21 columns</p>\n",
       "</div>"
      ],
      "text/plain": [
       "  First_Name_x Last_Name_x                  Title  Release_Year_x  \\\n",
       "0     PENELOPE     GUINESS       ACADEMY DINOSAUR            2006   \n",
       "1     PENELOPE     GUINESS   ANACONDA CONFESSIONS            2006   \n",
       "2     PENELOPE     GUINESS            ANGELS LIFE            2006   \n",
       "3     PENELOPE     GUINESS  BULWORTH COMMANDMENTS            2006   \n",
       "4     PENELOPE     GUINESS          CHEAPER CLYDE            2006   \n",
       "\n",
       "   Category_Id         Full_Name  Actor_Id First_Name_y Last_Name_y  \\\n",
       "0            6  GUINESS PENELOPE         1     PENELOPE     GUINESS   \n",
       "1            2  GUINESS PENELOPE         1     PENELOPE     GUINESS   \n",
       "2           13  GUINESS PENELOPE         1     PENELOPE     GUINESS   \n",
       "3           10  GUINESS PENELOPE         1     PENELOPE     GUINESS   \n",
       "4           14  GUINESS PENELOPE         1     PENELOPE     GUINESS   \n",
       "\n",
       "        Last_Update_x  ...                                        Description  \\\n",
       "0 2006-02-15 04:34:33  ...  A Epic Drama of a Feminist And a Mad Scientist...   \n",
       "1 2006-02-15 04:34:33  ...  A Lacklusture Display of a Dentist And a Denti...   \n",
       "2 2006-02-15 04:34:33  ...  A Thoughtful Display of a Woman And a Astronau...   \n",
       "3 2006-02-15 04:34:33  ...  A Amazing Display of a Mad Cow And a Pioneer w...   \n",
       "4 2006-02-15 04:34:33  ...  A Emotional Character Study of a Pioneer And a...   \n",
       "\n",
       "  Release_Year_y  Language_Id Rental_Duration  Rental_Rate  Length  \\\n",
       "0           2006           EN               6         0.99      86   \n",
       "1           2006           EN               3         0.99      92   \n",
       "2           2006           EN               3         2.99      74   \n",
       "3           2006           EN               4         2.99      61   \n",
       "4           2006           EN               6         0.99      87   \n",
       "\n",
       "   Replacement_Cost  Rating                         Special_Features  \\\n",
       "0             20.99      PG         Deleted Scenes,Behind the Scenes   \n",
       "1              9.99       R                  Trailers,Deleted Scenes   \n",
       "2             15.99       G                                 Trailers   \n",
       "3             14.99       G                                 Trailers   \n",
       "4             23.99       G  Trailers,Commentaries,Behind the Scenes   \n",
       "\n",
       "        Last_Update_y  \n",
       "0 2006-02-15 05:03:42  \n",
       "1 2006-02-15 05:03:42  \n",
       "2 2006-02-15 05:03:42  \n",
       "3 2006-02-15 05:03:42  \n",
       "4 2006-02-15 05:03:42  \n",
       "\n",
       "[5 rows x 21 columns]"
      ]
     },
     "execution_count": 25,
     "metadata": {},
     "output_type": "execute_result"
    }
   ],
   "source": [
    "antiguo.head()\n",
    "# Ahora debido al merge, me ha creado todas las columnas que tenia peliculas dentro de antiguo"
   ]
  },
  {
   "cell_type": "code",
   "execution_count": 26,
   "id": "b8f3cd84",
   "metadata": {},
   "outputs": [],
   "source": [
    "# Hago un left join de old_hdd con film.\n",
    "antiguo = antiguo.merge(categorias, on= 'Category_Id', how='left')"
   ]
  },
  {
   "cell_type": "code",
   "execution_count": 27,
   "id": "77dc94c8",
   "metadata": {},
   "outputs": [
    {
     "data": {
      "text/plain": [
       "Index(['First_Name_x', 'Last_Name_x', 'Title', 'Release_Year_x', 'Category_Id',\n",
       "       'Full_Name', 'Actor_Id', 'First_Name_y', 'Last_Name_y', 'Last_Update_x',\n",
       "       'Film_Id', 'Description', 'Release_Year_y', 'Language_Id',\n",
       "       'Rental_Duration', 'Rental_Rate', 'Length', 'Replacement_Cost',\n",
       "       'Rating', 'Special_Features', 'Last_Update_y', 'Name', 'Last_Update'],\n",
       "      dtype='object')"
      ]
     },
     "execution_count": 27,
     "metadata": {},
     "output_type": "execute_result"
    }
   ],
   "source": [
    "antiguo.columns\n",
    "#Ahora debido al merge, me ha creado todas las columnas que tenia category dentro de antiguo"
   ]
  },
  {
   "cell_type": "code",
   "execution_count": 28,
   "id": "3cf2c1e5",
   "metadata": {},
   "outputs": [
    {
     "name": "stderr",
     "output_type": "stream",
     "text": [
      "C:\\Users\\alexi\\AppData\\Local\\Temp\\ipykernel_19000\\1601713651.py:4: FutureWarning: Passing 'suffixes' which cause duplicate columns {'Last_Update_y'} in the result is deprecated and will raise a MergeError in a future version.\n",
      "  peliculas = peliculas.merge(antiguo, on= 'Film_Id', how='left')\n"
     ]
    }
   ],
   "source": [
    "# Hago un merge de peliculas con el nuevo antiguo que tiene ahora todas las columnas de peliculas, actores y categorias.\n",
    "# Esto me va a permitir añadir categorias y peliculas.\n",
    "\n",
    "peliculas = peliculas.merge(antiguo, on= 'Film_Id', how='left')"
   ]
  },
  {
   "cell_type": "code",
   "execution_count": 29,
   "id": "a65b9d39",
   "metadata": {},
   "outputs": [
    {
     "data": {
      "text/plain": [
       "Index(['Film_Id', 'Title_x', 'Description_x', 'Release_Year', 'Language_Id_x',\n",
       "       'Rental_Duration_x', 'Rental_Rate_x', 'Length_x', 'Replacement_Cost_x',\n",
       "       'Rating_x', 'Special_Features_x', 'Last_Update_x', 'First_Name_x',\n",
       "       'Last_Name_x', 'Title_y', 'Release_Year_x', 'Category_Id', 'Full_Name',\n",
       "       'Actor_Id', 'First_Name_y', 'Last_Name_y', 'Last_Update_x',\n",
       "       'Description_y', 'Release_Year_y', 'Language_Id_y', 'Rental_Duration_y',\n",
       "       'Rental_Rate_y', 'Length_y', 'Replacement_Cost_y', 'Rating_y',\n",
       "       'Special_Features_y', 'Last_Update_y', 'Name', 'Last_Update_y'],\n",
       "      dtype='object')"
      ]
     },
     "execution_count": 29,
     "metadata": {},
     "output_type": "execute_result"
    }
   ],
   "source": [
    "peliculas.columns\n",
    "# Esto generó duplicados en peliculas"
   ]
  },
  {
   "cell_type": "code",
   "execution_count": 30,
   "id": "42d386b3",
   "metadata": {},
   "outputs": [],
   "source": [
    "# Elimino todas las columnas duplicadas\n",
    "peliculas.drop(columns= ['Title_y','Release_Year_x','Full_Name', 'Actor_Id','First_Name_y',\n",
    "                    'Last_Name_y', 'Last_Update_x', 'Description_y','Release_Year_y', 'Language_Id_y',\n",
    "                    'Rental_Duration_y', 'Rental_Rate_y', 'Length_y', 'Replacement_Cost_y','Rating_y', 'Special_Features_y',\n",
    "                    'Last_Update_y', 'Name','Last_Update_y','First_Name_x', 'Last_Name_x'], inplace=True)"
   ]
  },
  {
   "cell_type": "code",
   "execution_count": 31,
   "id": "ef711639",
   "metadata": {},
   "outputs": [
    {
     "data": {
      "text/plain": [
       "Index(['Film_Id', 'Title_x', 'Description_x', 'Release_Year', 'Language_Id_x',\n",
       "       'Rental_Duration_x', 'Rental_Rate_x', 'Length_x', 'Replacement_Cost_x',\n",
       "       'Rating_x', 'Special_Features_x', 'Category_Id'],\n",
       "      dtype='object')"
      ]
     },
     "execution_count": 31,
     "metadata": {},
     "output_type": "execute_result"
    }
   ],
   "source": [
    "peliculas.columns"
   ]
  },
  {
   "cell_type": "code",
   "execution_count": 32,
   "id": "636921ca",
   "metadata": {},
   "outputs": [],
   "source": [
    "# Simplifico los nombres de columnas en peliculas\n",
    "peliculas =peliculas.rename(columns = {'Title_x' : 'Title', 'Description_x':'Description',  'Language_Id_x': 'Language', 'Rental_Duration_x':'Rental_Duration',\n",
    "                             'Rental_Rate_x':'Rental_Rate', 'Length_x':'Length', 'Replacement_Cost_x':'Replacement_Cost', 'Rating_x':'Rating',\n",
    "                             'Special_Features_x':'Special_Features','Category_Id':'Genero'})"
   ]
  },
  {
   "cell_type": "code",
   "execution_count": 33,
   "id": "2ac91e61",
   "metadata": {},
   "outputs": [
    {
     "data": {
      "text/plain": [
       "Index(['Film_Id', 'Title', 'Description', 'Release_Year', 'Language',\n",
       "       'Rental_Duration', 'Rental_Rate', 'Length', 'Replacement_Cost',\n",
       "       'Rating', 'Special_Features', 'Genero'],\n",
       "      dtype='object')"
      ]
     },
     "execution_count": 33,
     "metadata": {},
     "output_type": "execute_result"
    }
   ],
   "source": [
    "peliculas.columns"
   ]
  },
  {
   "cell_type": "code",
   "execution_count": 34,
   "id": "61808d4d",
   "metadata": {},
   "outputs": [
    {
     "data": {
      "text/plain": [
       "Index(['First_Name_x', 'Last_Name_x', 'Title', 'Release_Year_x', 'Category_Id',\n",
       "       'Full_Name', 'Actor_Id', 'First_Name_y', 'Last_Name_y', 'Last_Update_x',\n",
       "       'Film_Id', 'Description', 'Release_Year_y', 'Language_Id',\n",
       "       'Rental_Duration', 'Rental_Rate', 'Length', 'Replacement_Cost',\n",
       "       'Rating', 'Special_Features', 'Last_Update_y', 'Name', 'Last_Update'],\n",
       "      dtype='object')"
      ]
     },
     "execution_count": 34,
     "metadata": {},
     "output_type": "execute_result"
    }
   ],
   "source": [
    "# En antiguo solo me tengo que quedar con las dos Foreign Key de Actores y Peliculas\n",
    "# Comprobar que columnas tengo que eliminar para quedarme solo con las dos que necesito.\n",
    "antiguo.columns"
   ]
  },
  {
   "cell_type": "code",
   "execution_count": 35,
   "id": "7cc0f931",
   "metadata": {},
   "outputs": [],
   "source": [
    "# Elimino las columnas que no necesito.\n",
    "antiguo.drop(columns=['First_Name_x', 'Last_Name_x', 'Title', 'Release_Year_x', 'Category_Id',\n",
    "       'Full_Name', 'First_Name_y', 'Last_Name_y', 'Last_Update_x',\n",
    "       'Description', 'Release_Year_y', 'Language_Id', 'Rental_Duration', 'Rental_Rate', 'Length',\n",
    "       'Replacement_Cost', 'Rating', 'Special_Features', 'Last_Update_y',\n",
    "       'Name', 'Last_Update'] , inplace=True)"
   ]
  },
  {
   "cell_type": "code",
   "execution_count": 36,
   "id": "c034118a",
   "metadata": {},
   "outputs": [
    {
     "data": {
      "text/plain": [
       "Index(['Actor_Id', 'Film_Id'], dtype='object')"
      ]
     },
     "execution_count": 36,
     "metadata": {},
     "output_type": "execute_result"
    }
   ],
   "source": [
    "# Compruebo nuevo estado de antiguo\n",
    "antiguo.columns"
   ]
  },
  {
   "cell_type": "code",
   "execution_count": 37,
   "id": "57b41802",
   "metadata": {},
   "outputs": [],
   "source": [
    "# Le añado todas las columnas de inventory a rental\n",
    "alquileres = alquileres.merge(inventario, on= 'Inventory_Id', how='left')"
   ]
  },
  {
   "cell_type": "code",
   "execution_count": 38,
   "id": "96d42ae5",
   "metadata": {},
   "outputs": [
    {
     "data": {
      "text/plain": [
       "Index(['Rental_Id', 'Rental_Date', 'Inventory_Id', 'Customer_Id',\n",
       "       'Return_Date', 'Staff_Id', 'Last_Update_x', 'Film_Id', 'Store_Id',\n",
       "       'Last_Update_y'],\n",
       "      dtype='object')"
      ]
     },
     "execution_count": 38,
     "metadata": {},
     "output_type": "execute_result"
    }
   ],
   "source": [
    "# Reviso nuevo estado de alquileres\n",
    "alquileres.columns"
   ]
  },
  {
   "cell_type": "code",
   "execution_count": 39,
   "id": "8b93a428",
   "metadata": {},
   "outputs": [],
   "source": [
    "# Borro columnas\n",
    "alquileres.drop(columns = ['Last_Update_y','Customer_Id','Staff_Id','Store_Id'],inplace=True)"
   ]
  },
  {
   "cell_type": "code",
   "execution_count": 40,
   "id": "34fd362f",
   "metadata": {},
   "outputs": [],
   "source": [
    "# Como ya tengo todos los datos del stock metido en rental, el data frame inventory no me hace falta."
   ]
  },
  {
   "cell_type": "code",
   "execution_count": 41,
   "id": "f838192d",
   "metadata": {},
   "outputs": [
    {
     "name": "stdout",
     "output_type": "stream",
     "text": [
      "<class 'pandas.core.frame.DataFrame'>\n",
      "Int64Index: 1386 entries, 0 to 1385\n",
      "Data columns (total 12 columns):\n",
      " #   Column            Non-Null Count  Dtype  \n",
      "---  ------            --------------  -----  \n",
      " 0   Film_Id           1386 non-null   int64  \n",
      " 1   Title             1386 non-null   object \n",
      " 2   Description       1386 non-null   object \n",
      " 3   Release_Year      1386 non-null   int64  \n",
      " 4   Language          1386 non-null   object \n",
      " 5   Rental_Duration   1386 non-null   int64  \n",
      " 6   Rental_Rate       1386 non-null   float64\n",
      " 7   Length            1386 non-null   int64  \n",
      " 8   Replacement_Cost  1386 non-null   float64\n",
      " 9   Rating            1386 non-null   object \n",
      " 10  Special_Features  1386 non-null   object \n",
      " 11  Genero            1000 non-null   float64\n",
      "dtypes: float64(3), int64(4), object(5)\n",
      "memory usage: 140.8+ KB\n"
     ]
    }
   ],
   "source": [
    "peliculas.info()\n",
    "# Tengo 386 duplicados todas las columnas de mi df peliculas menos en Genero."
   ]
  },
  {
   "cell_type": "code",
   "execution_count": 42,
   "id": "aeff6dcd",
   "metadata": {},
   "outputs": [
    {
     "data": {
      "text/plain": [
       "386"
      ]
     },
     "execution_count": 42,
     "metadata": {},
     "output_type": "execute_result"
    }
   ],
   "source": [
    "peliculas.duplicated().sum()"
   ]
  },
  {
   "cell_type": "code",
   "execution_count": 43,
   "id": "fbbd1d51",
   "metadata": {},
   "outputs": [],
   "source": [
    "peliculas.drop_duplicates( inplace=True)"
   ]
  },
  {
   "cell_type": "code",
   "execution_count": 44,
   "id": "5620e97d",
   "metadata": {},
   "outputs": [
    {
     "name": "stdout",
     "output_type": "stream",
     "text": [
      "0\n",
      "0\n",
      "0\n",
      "0\n"
     ]
    }
   ],
   "source": [
    "# Compruebo duplicado\n",
    "print(peliculas.duplicated().sum())\n",
    "print(actores.duplicated().sum())\n",
    "print(antiguo.duplicated().sum())\n",
    "print(alquileres.duplicated().sum())"
   ]
  },
  {
   "cell_type": "code",
   "execution_count": 45,
   "id": "8feddaa4",
   "metadata": {},
   "outputs": [],
   "source": [
    "peliculas['Genero'] = peliculas ['Genero'].fillna(0).astype(int)"
   ]
  },
  {
   "cell_type": "code",
   "execution_count": 46,
   "id": "75ea37a6",
   "metadata": {},
   "outputs": [
    {
     "data": {
      "text/plain": [
       "array([ 6, 11,  0,  9, 15, 12,  4,  1,  2, 13,  8, 14,  7, 16, 10,  3,  5])"
      ]
     },
     "execution_count": 46,
     "metadata": {},
     "output_type": "execute_result"
    }
   ],
   "source": [
    "peliculas.Genero.unique()"
   ]
  },
  {
   "cell_type": "code",
   "execution_count": 47,
   "id": "8d8b051b",
   "metadata": {},
   "outputs": [],
   "source": [
    "# Hago una funcion para que me cambie los numeros por los valores en texto.\n",
    "\n",
    "def cambiar_genero(valor):\n",
    "    if valor == 1:\n",
    "        return 'Action'\n",
    "    elif valor == 2:\n",
    "        return 'Animation'\n",
    "    elif valor == 3:\n",
    "        return 'Children'\n",
    "    elif valor == 4:\n",
    "        return 'Classics'\n",
    "    elif valor == 5:\n",
    "        return 'Comedy'\n",
    "    elif valor == 6:\n",
    "        return 'Documentary'\n",
    "    elif valor == 7:\n",
    "        return 'Drama'\n",
    "    elif valor == 8:\n",
    "        return 'Family'\n",
    "    elif valor == 9:\n",
    "        return 'Foreign'\n",
    "    elif valor == 10:\n",
    "        return 'Games'\n",
    "    elif valor == 11:\n",
    "        return 'Horror'\n",
    "    elif valor == 12:\n",
    "        return 'Music'\n",
    "    elif valor == 13:\n",
    "        return 'New'\n",
    "    elif valor == 14:\n",
    "        return 'Sci-fi'\n",
    "    elif valor == 15:\n",
    "        return 'Sports'\n",
    "    elif valor == 16:\n",
    "        return 'Travel'\n",
    "    else:\n",
    "        return 'No_Info'\n",
    "    \n",
    "# Aplico la funcion con .apply()\n",
    "peliculas['Genero'] = peliculas['Genero'].apply(cambiar_genero)"
   ]
  },
  {
   "cell_type": "code",
   "execution_count": 48,
   "id": "6ad30595",
   "metadata": {},
   "outputs": [
    {
     "name": "stdout",
     "output_type": "stream",
     "text": [
      "<class 'pandas.core.frame.DataFrame'>\n",
      "Int64Index: 1000 entries, 0 to 1385\n",
      "Data columns (total 12 columns):\n",
      " #   Column            Non-Null Count  Dtype  \n",
      "---  ------            --------------  -----  \n",
      " 0   Film_Id           1000 non-null   int64  \n",
      " 1   Title             1000 non-null   object \n",
      " 2   Description       1000 non-null   object \n",
      " 3   Release_Year      1000 non-null   int64  \n",
      " 4   Language          1000 non-null   object \n",
      " 5   Rental_Duration   1000 non-null   int64  \n",
      " 6   Rental_Rate       1000 non-null   float64\n",
      " 7   Length            1000 non-null   int64  \n",
      " 8   Replacement_Cost  1000 non-null   float64\n",
      " 9   Rating            1000 non-null   object \n",
      " 10  Special_Features  1000 non-null   object \n",
      " 11  Genero            1000 non-null   object \n",
      "dtypes: float64(2), int64(4), object(6)\n",
      "memory usage: 101.6+ KB\n"
     ]
    }
   ],
   "source": [
    "peliculas.info()"
   ]
  },
  {
   "cell_type": "code",
   "execution_count": 49,
   "id": "90bf3f5e",
   "metadata": {},
   "outputs": [],
   "source": [
    "antiguo.rename(columns={'Actor_Id': 'actores_Actor_Id', 'Film_Id': 'peliculas_Film_Id'}, inplace=True)"
   ]
  },
  {
   "cell_type": "code",
   "execution_count": 50,
   "id": "d128f2ba",
   "metadata": {},
   "outputs": [
    {
     "data": {
      "text/plain": [
       "Index(['actores_Actor_Id', 'peliculas_Film_Id'], dtype='object')"
      ]
     },
     "execution_count": 50,
     "metadata": {},
     "output_type": "execute_result"
    }
   ],
   "source": [
    "antiguo.columns"
   ]
  },
  {
   "cell_type": "code",
   "execution_count": 51,
   "id": "3108ec93",
   "metadata": {},
   "outputs": [],
   "source": [
    "# Cambio de nombre al data frame.\n",
    "actores_peliculas = antiguo"
   ]
  },
  {
   "cell_type": "code",
   "execution_count": 52,
   "id": "7e35d5f3",
   "metadata": {},
   "outputs": [
    {
     "name": "stdout",
     "output_type": "stream",
     "text": [
      "220.0\n",
      "1.0\n",
      "212\n"
     ]
    }
   ],
   "source": [
    "# Revision data frame rental.\n",
    "# Solo estan metidos 212 titulos, de los 1000 segun el listado de alquileres de la tabla Film\n",
    "print(alquileres.Film_Id.max())\n",
    "print(alquileres.Film_Id.min())\n",
    "print(alquileres.Film_Id.count())\n"
   ]
  },
  {
   "cell_type": "code",
   "execution_count": 53,
   "id": "ce6764d2",
   "metadata": {},
   "outputs": [
    {
     "name": "stdout",
     "output_type": "stream",
     "text": [
      "4581\n",
      "2\n",
      "212\n"
     ]
    }
   ],
   "source": [
    "# Deberia tener la informacion de 4581 peliculas fisicas, pero solo tengo 1000 entradas de 212 peliculas.\n",
    "print(alquileres.Inventory_Id.max())\n",
    "print(alquileres.Inventory_Id.min())\n",
    "print(alquileres.Film_Id.count())"
   ]
  },
  {
   "cell_type": "markdown",
   "id": "88867039",
   "metadata": {},
   "source": [
    "Conclusiones:\n",
    "\n",
    "Solo se han metido datos de 212 titulos, pero al haber mas de una pelicula se han añadido hasta tener 1000 registros.\n",
    "Necesitaremos el resto de titulos para completar la base de datos.\n",
    "Acciones tomadas con la informacion de la que disponemos:\n",
    "\n",
    "Eliminar todas las filas que tengan nulos (o no tengan informacion) en la columna Film_Id.\n",
    "Si no tengo informacion sobre ellas, no las necesito.\n",
    "Mi nuevo Rental_Id sera el Inventory_Id que ira de 1 a 1000"
   ]
  },
  {
   "cell_type": "code",
   "execution_count": 54,
   "id": "0f9dd4db",
   "metadata": {},
   "outputs": [],
   "source": [
    "alquileres.dropna(subset=['Film_Id'], inplace=True)"
   ]
  },
  {
   "cell_type": "code",
   "execution_count": 55,
   "id": "6262b227",
   "metadata": {},
   "outputs": [],
   "source": [
    "# Cambio a tipo integer estas dos columnas.\n",
    "alquileres['Film_Id'] = alquileres['Film_Id'].astype(int)\n",
    "alquileres['Inventory_Id'] = alquileres['Inventory_Id'].astype(int)"
   ]
  },
  {
   "cell_type": "code",
   "execution_count": 56,
   "id": "dc65cda8",
   "metadata": {},
   "outputs": [
    {
     "name": "stdout",
     "output_type": "stream",
     "text": [
      "<class 'pandas.core.frame.DataFrame'>\n",
      "Int64Index: 212 entries, 0 to 993\n",
      "Data columns (total 6 columns):\n",
      " #   Column         Non-Null Count  Dtype         \n",
      "---  ------         --------------  -----         \n",
      " 0   Rental_Id      212 non-null    int64         \n",
      " 1   Rental_Date    212 non-null    object        \n",
      " 2   Inventory_Id   212 non-null    int32         \n",
      " 3   Return_Date    212 non-null    object        \n",
      " 4   Last_Update_x  212 non-null    datetime64[ns]\n",
      " 5   Film_Id        212 non-null    int32         \n",
      "dtypes: datetime64[ns](1), int32(2), int64(1), object(2)\n",
      "memory usage: 9.9+ KB\n"
     ]
    }
   ],
   "source": [
    "alquileres.info()"
   ]
  },
  {
   "cell_type": "code",
   "execution_count": 57,
   "id": "47a51103",
   "metadata": {},
   "outputs": [],
   "source": [
    "alquileres = alquileres.drop('Rental_Id', axis=1)"
   ]
  },
  {
   "cell_type": "code",
   "execution_count": 58,
   "id": "59a640dc",
   "metadata": {},
   "outputs": [],
   "source": [
    "alquileres['Rental_Id'] = range(1, len(alquileres) + 1)\n",
    "alquileres.set_index('Rental_Id', inplace=True)"
   ]
  },
  {
   "cell_type": "code",
   "execution_count": 59,
   "id": "fd1247ca",
   "metadata": {},
   "outputs": [
    {
     "data": {
      "text/plain": [
       "Index(['Rental_Date', 'Inventory_Id', 'Return_Date', 'Last_Update_x',\n",
       "       'Film_Id'],\n",
       "      dtype='object')"
      ]
     },
     "execution_count": 59,
     "metadata": {},
     "output_type": "execute_result"
    }
   ],
   "source": [
    "alquileres.columns"
   ]
  },
  {
   "cell_type": "code",
   "execution_count": 60,
   "id": "32c9696a",
   "metadata": {},
   "outputs": [],
   "source": [
    "alquileres.rename(columns={'Film_Id': 'peliculas_Film_Id'}, inplace=True)"
   ]
  },
  {
   "cell_type": "code",
   "execution_count": 61,
   "id": "b98fe4b3",
   "metadata": {},
   "outputs": [
    {
     "name": "stdout",
     "output_type": "stream",
     "text": [
      "<class 'pandas.core.frame.DataFrame'>\n",
      "Int64Index: 212 entries, 1 to 212\n",
      "Data columns (total 5 columns):\n",
      " #   Column             Non-Null Count  Dtype         \n",
      "---  ------             --------------  -----         \n",
      " 0   Rental_Date        212 non-null    object        \n",
      " 1   Inventory_Id       212 non-null    int32         \n",
      " 2   Return_Date        212 non-null    object        \n",
      " 3   Last_Update_x      212 non-null    datetime64[ns]\n",
      " 4   peliculas_Film_Id  212 non-null    int32         \n",
      "dtypes: datetime64[ns](1), int32(2), object(2)\n",
      "memory usage: 8.3+ KB\n"
     ]
    }
   ],
   "source": [
    "alquileres.info()"
   ]
  },
  {
   "cell_type": "code",
   "execution_count": 62,
   "id": "89c45603",
   "metadata": {},
   "outputs": [],
   "source": [
    "actores.to_csv(r'actores.csv', index=True)\n",
    "peliculas.to_csv(r'peliculas.csv', index=True)\n",
    "inventario.to_csv(r'inventario.csv', index=True)\n",
    "actores_peliculas.to_csv(r'actores_peliculas.csv', index=True)\n",
    "alquileres.to_csv(r'alquileres.csv', index=True)"
   ]
  },
  {
   "cell_type": "code",
   "execution_count": 63,
   "id": "92a2eb64",
   "metadata": {},
   "outputs": [
    {
     "name": "stdout",
     "output_type": "stream",
     "text": [
      "<class 'pandas.core.frame.DataFrame'>\n",
      "Int64Index: 1000 entries, 0 to 999\n",
      "Data columns (total 2 columns):\n",
      " #   Column             Non-Null Count  Dtype\n",
      "---  ------             --------------  -----\n",
      " 0   actores_Actor_Id   1000 non-null   int64\n",
      " 1   peliculas_Film_Id  1000 non-null   int64\n",
      "dtypes: int64(2)\n",
      "memory usage: 23.4 KB\n"
     ]
    }
   ],
   "source": [
    "actores_peliculas.info()"
   ]
  },
  {
   "cell_type": "code",
   "execution_count": 64,
   "id": "5a604441",
   "metadata": {},
   "outputs": [
    {
     "data": {
      "text/plain": [
       "<bound method Series.unique of 0       1\n",
       "1       1\n",
       "2       1\n",
       "3       1\n",
       "4       1\n",
       "       ..\n",
       "995    39\n",
       "996    39\n",
       "997    39\n",
       "998    39\n",
       "999    39\n",
       "Name: actores_Actor_Id, Length: 1000, dtype: int64>"
      ]
     },
     "execution_count": 64,
     "metadata": {},
     "output_type": "execute_result"
    }
   ],
   "source": [
    "actores_peliculas.actores_Actor_Id.unique"
   ]
  },
  {
   "cell_type": "code",
   "execution_count": 65,
   "id": "4463333a",
   "metadata": {},
   "outputs": [
    {
     "name": "stdout",
     "output_type": "stream",
     "text": [
      "<class 'pandas.core.frame.DataFrame'>\n",
      "RangeIndex: 200 entries, 0 to 199\n",
      "Data columns (total 5 columns):\n",
      " #   Column       Non-Null Count  Dtype         \n",
      "---  ------       --------------  -----         \n",
      " 0   Actor_Id     200 non-null    int64         \n",
      " 1   First_Name   200 non-null    object        \n",
      " 2   Last_Name    200 non-null    object        \n",
      " 3   Last_Update  200 non-null    datetime64[ns]\n",
      " 4   Full_Name    200 non-null    object        \n",
      "dtypes: datetime64[ns](1), int64(1), object(3)\n",
      "memory usage: 7.9+ KB\n"
     ]
    }
   ],
   "source": [
    "actores.info()"
   ]
  },
  {
   "cell_type": "code",
   "execution_count": 66,
   "id": "54f4b4e6",
   "metadata": {},
   "outputs": [
    {
     "data": {
      "text/html": [
       "<div>\n",
       "<style scoped>\n",
       "    .dataframe tbody tr th:only-of-type {\n",
       "        vertical-align: middle;\n",
       "    }\n",
       "\n",
       "    .dataframe tbody tr th {\n",
       "        vertical-align: top;\n",
       "    }\n",
       "\n",
       "    .dataframe thead th {\n",
       "        text-align: right;\n",
       "    }\n",
       "</style>\n",
       "<table border=\"1\" class=\"dataframe\">\n",
       "  <thead>\n",
       "    <tr style=\"text-align: right;\">\n",
       "      <th></th>\n",
       "      <th>actores_Actor_Id</th>\n",
       "      <th>peliculas_Film_Id</th>\n",
       "    </tr>\n",
       "  </thead>\n",
       "  <tbody>\n",
       "    <tr>\n",
       "      <th>950</th>\n",
       "      <td>37</td>\n",
       "      <td>553</td>\n",
       "    </tr>\n",
       "    <tr>\n",
       "      <th>951</th>\n",
       "      <td>37</td>\n",
       "      <td>555</td>\n",
       "    </tr>\n",
       "    <tr>\n",
       "      <th>952</th>\n",
       "      <td>37</td>\n",
       "      <td>572</td>\n",
       "    </tr>\n",
       "    <tr>\n",
       "      <th>953</th>\n",
       "      <td>37</td>\n",
       "      <td>588</td>\n",
       "    </tr>\n",
       "    <tr>\n",
       "      <th>954</th>\n",
       "      <td>37</td>\n",
       "      <td>662</td>\n",
       "    </tr>\n",
       "    <tr>\n",
       "      <th>955</th>\n",
       "      <td>37</td>\n",
       "      <td>663</td>\n",
       "    </tr>\n",
       "    <tr>\n",
       "      <th>956</th>\n",
       "      <td>37</td>\n",
       "      <td>694</td>\n",
       "    </tr>\n",
       "    <tr>\n",
       "      <th>957</th>\n",
       "      <td>37</td>\n",
       "      <td>697</td>\n",
       "    </tr>\n",
       "    <tr>\n",
       "      <th>958</th>\n",
       "      <td>37</td>\n",
       "      <td>785</td>\n",
       "    </tr>\n",
       "    <tr>\n",
       "      <th>959</th>\n",
       "      <td>37</td>\n",
       "      <td>839</td>\n",
       "    </tr>\n",
       "    <tr>\n",
       "      <th>960</th>\n",
       "      <td>37</td>\n",
       "      <td>840</td>\n",
       "    </tr>\n",
       "    <tr>\n",
       "      <th>961</th>\n",
       "      <td>37</td>\n",
       "      <td>853</td>\n",
       "    </tr>\n",
       "    <tr>\n",
       "      <th>962</th>\n",
       "      <td>37</td>\n",
       "      <td>900</td>\n",
       "    </tr>\n",
       "    <tr>\n",
       "      <th>963</th>\n",
       "      <td>37</td>\n",
       "      <td>925</td>\n",
       "    </tr>\n",
       "    <tr>\n",
       "      <th>964</th>\n",
       "      <td>37</td>\n",
       "      <td>963</td>\n",
       "    </tr>\n",
       "    <tr>\n",
       "      <th>965</th>\n",
       "      <td>37</td>\n",
       "      <td>966</td>\n",
       "    </tr>\n",
       "    <tr>\n",
       "      <th>966</th>\n",
       "      <td>37</td>\n",
       "      <td>989</td>\n",
       "    </tr>\n",
       "    <tr>\n",
       "      <th>967</th>\n",
       "      <td>37</td>\n",
       "      <td>997</td>\n",
       "    </tr>\n",
       "    <tr>\n",
       "      <th>968</th>\n",
       "      <td>38</td>\n",
       "      <td>24</td>\n",
       "    </tr>\n",
       "    <tr>\n",
       "      <th>969</th>\n",
       "      <td>38</td>\n",
       "      <td>111</td>\n",
       "    </tr>\n",
       "    <tr>\n",
       "      <th>970</th>\n",
       "      <td>38</td>\n",
       "      <td>160</td>\n",
       "    </tr>\n",
       "    <tr>\n",
       "      <th>971</th>\n",
       "      <td>38</td>\n",
       "      <td>176</td>\n",
       "    </tr>\n",
       "    <tr>\n",
       "      <th>972</th>\n",
       "      <td>38</td>\n",
       "      <td>223</td>\n",
       "    </tr>\n",
       "    <tr>\n",
       "      <th>973</th>\n",
       "      <td>38</td>\n",
       "      <td>241</td>\n",
       "    </tr>\n",
       "    <tr>\n",
       "      <th>974</th>\n",
       "      <td>38</td>\n",
       "      <td>274</td>\n",
       "    </tr>\n",
       "    <tr>\n",
       "      <th>975</th>\n",
       "      <td>38</td>\n",
       "      <td>335</td>\n",
       "    </tr>\n",
       "    <tr>\n",
       "      <th>976</th>\n",
       "      <td>38</td>\n",
       "      <td>338</td>\n",
       "    </tr>\n",
       "    <tr>\n",
       "      <th>977</th>\n",
       "      <td>38</td>\n",
       "      <td>353</td>\n",
       "    </tr>\n",
       "    <tr>\n",
       "      <th>978</th>\n",
       "      <td>38</td>\n",
       "      <td>448</td>\n",
       "    </tr>\n",
       "    <tr>\n",
       "      <th>979</th>\n",
       "      <td>38</td>\n",
       "      <td>450</td>\n",
       "    </tr>\n",
       "    <tr>\n",
       "      <th>980</th>\n",
       "      <td>38</td>\n",
       "      <td>458</td>\n",
       "    </tr>\n",
       "    <tr>\n",
       "      <th>981</th>\n",
       "      <td>38</td>\n",
       "      <td>501</td>\n",
       "    </tr>\n",
       "    <tr>\n",
       "      <th>982</th>\n",
       "      <td>38</td>\n",
       "      <td>516</td>\n",
       "    </tr>\n",
       "    <tr>\n",
       "      <th>983</th>\n",
       "      <td>38</td>\n",
       "      <td>547</td>\n",
       "    </tr>\n",
       "    <tr>\n",
       "      <th>984</th>\n",
       "      <td>38</td>\n",
       "      <td>583</td>\n",
       "    </tr>\n",
       "    <tr>\n",
       "      <th>985</th>\n",
       "      <td>38</td>\n",
       "      <td>618</td>\n",
       "    </tr>\n",
       "    <tr>\n",
       "      <th>986</th>\n",
       "      <td>38</td>\n",
       "      <td>619</td>\n",
       "    </tr>\n",
       "    <tr>\n",
       "      <th>987</th>\n",
       "      <td>38</td>\n",
       "      <td>705</td>\n",
       "    </tr>\n",
       "    <tr>\n",
       "      <th>988</th>\n",
       "      <td>38</td>\n",
       "      <td>793</td>\n",
       "    </tr>\n",
       "    <tr>\n",
       "      <th>989</th>\n",
       "      <td>38</td>\n",
       "      <td>827</td>\n",
       "    </tr>\n",
       "    <tr>\n",
       "      <th>990</th>\n",
       "      <td>38</td>\n",
       "      <td>839</td>\n",
       "    </tr>\n",
       "    <tr>\n",
       "      <th>991</th>\n",
       "      <td>38</td>\n",
       "      <td>853</td>\n",
       "    </tr>\n",
       "    <tr>\n",
       "      <th>992</th>\n",
       "      <td>38</td>\n",
       "      <td>876</td>\n",
       "    </tr>\n",
       "    <tr>\n",
       "      <th>993</th>\n",
       "      <td>39</td>\n",
       "      <td>71</td>\n",
       "    </tr>\n",
       "    <tr>\n",
       "      <th>994</th>\n",
       "      <td>39</td>\n",
       "      <td>73</td>\n",
       "    </tr>\n",
       "    <tr>\n",
       "      <th>995</th>\n",
       "      <td>39</td>\n",
       "      <td>168</td>\n",
       "    </tr>\n",
       "    <tr>\n",
       "      <th>996</th>\n",
       "      <td>39</td>\n",
       "      <td>203</td>\n",
       "    </tr>\n",
       "    <tr>\n",
       "      <th>997</th>\n",
       "      <td>39</td>\n",
       "      <td>222</td>\n",
       "    </tr>\n",
       "    <tr>\n",
       "      <th>998</th>\n",
       "      <td>39</td>\n",
       "      <td>290</td>\n",
       "    </tr>\n",
       "    <tr>\n",
       "      <th>999</th>\n",
       "      <td>39</td>\n",
       "      <td>293</td>\n",
       "    </tr>\n",
       "  </tbody>\n",
       "</table>\n",
       "</div>"
      ],
      "text/plain": [
       "     actores_Actor_Id  peliculas_Film_Id\n",
       "950                37                553\n",
       "951                37                555\n",
       "952                37                572\n",
       "953                37                588\n",
       "954                37                662\n",
       "955                37                663\n",
       "956                37                694\n",
       "957                37                697\n",
       "958                37                785\n",
       "959                37                839\n",
       "960                37                840\n",
       "961                37                853\n",
       "962                37                900\n",
       "963                37                925\n",
       "964                37                963\n",
       "965                37                966\n",
       "966                37                989\n",
       "967                37                997\n",
       "968                38                 24\n",
       "969                38                111\n",
       "970                38                160\n",
       "971                38                176\n",
       "972                38                223\n",
       "973                38                241\n",
       "974                38                274\n",
       "975                38                335\n",
       "976                38                338\n",
       "977                38                353\n",
       "978                38                448\n",
       "979                38                450\n",
       "980                38                458\n",
       "981                38                501\n",
       "982                38                516\n",
       "983                38                547\n",
       "984                38                583\n",
       "985                38                618\n",
       "986                38                619\n",
       "987                38                705\n",
       "988                38                793\n",
       "989                38                827\n",
       "990                38                839\n",
       "991                38                853\n",
       "992                38                876\n",
       "993                39                 71\n",
       "994                39                 73\n",
       "995                39                168\n",
       "996                39                203\n",
       "997                39                222\n",
       "998                39                290\n",
       "999                39                293"
      ]
     },
     "execution_count": 66,
     "metadata": {},
     "output_type": "execute_result"
    }
   ],
   "source": [
    "actores_peliculas.tail(50)"
   ]
  },
  {
   "cell_type": "code",
   "execution_count": 67,
   "id": "7cdb88bb",
   "metadata": {},
   "outputs": [
    {
     "name": "stdout",
     "output_type": "stream",
     "text": [
      "<class 'pandas.core.frame.DataFrame'>\n",
      "Int64Index: 1000 entries, 0 to 1385\n",
      "Data columns (total 12 columns):\n",
      " #   Column            Non-Null Count  Dtype  \n",
      "---  ------            --------------  -----  \n",
      " 0   Film_Id           1000 non-null   int64  \n",
      " 1   Title             1000 non-null   object \n",
      " 2   Description       1000 non-null   object \n",
      " 3   Release_Year      1000 non-null   int64  \n",
      " 4   Language          1000 non-null   object \n",
      " 5   Rental_Duration   1000 non-null   int64  \n",
      " 6   Rental_Rate       1000 non-null   float64\n",
      " 7   Length            1000 non-null   int64  \n",
      " 8   Replacement_Cost  1000 non-null   float64\n",
      " 9   Rating            1000 non-null   object \n",
      " 10  Special_Features  1000 non-null   object \n",
      " 11  Genero            1000 non-null   object \n",
      "dtypes: float64(2), int64(4), object(6)\n",
      "memory usage: 101.6+ KB\n"
     ]
    }
   ],
   "source": [
    "peliculas.info()"
   ]
  },
  {
   "cell_type": "code",
   "execution_count": 68,
   "id": "4d07598f",
   "metadata": {},
   "outputs": [
    {
     "name": "stdout",
     "output_type": "stream",
     "text": [
      "<class 'pandas.core.frame.DataFrame'>\n",
      "RangeIndex: 200 entries, 0 to 199\n",
      "Data columns (total 5 columns):\n",
      " #   Column       Non-Null Count  Dtype         \n",
      "---  ------       --------------  -----         \n",
      " 0   Actor_Id     200 non-null    int64         \n",
      " 1   First_Name   200 non-null    object        \n",
      " 2   Last_Name    200 non-null    object        \n",
      " 3   Last_Update  200 non-null    datetime64[ns]\n",
      " 4   Full_Name    200 non-null    object        \n",
      "dtypes: datetime64[ns](1), int64(1), object(3)\n",
      "memory usage: 7.9+ KB\n"
     ]
    }
   ],
   "source": [
    "actores.info()"
   ]
  },
  {
   "cell_type": "code",
   "execution_count": null,
   "id": "5354e276",
   "metadata": {},
   "outputs": [],
   "source": [
    "actores_peliculas.peliculas_Film_Id.info()"
   ]
  },
  {
   "cell_type": "code",
   "execution_count": 70,
   "id": "82467c9e",
   "metadata": {},
   "outputs": [
    {
     "data": {
      "text/plain": [
       "Index(['Rental_Date', 'Inventory_Id', 'Return_Date', 'Last_Update_x',\n",
       "       'peliculas_Film_Id'],\n",
       "      dtype='object')"
      ]
     },
     "execution_count": 70,
     "metadata": {},
     "output_type": "execute_result"
    }
   ],
   "source": [
    "alquileres.columns"
   ]
  }
 ],
 "metadata": {
  "kernelspec": {
   "display_name": "Python 3 (ipykernel)",
   "language": "python",
   "name": "python3"
  },
  "language_info": {
   "codemirror_mode": {
    "name": "ipython",
    "version": 3
   },
   "file_extension": ".py",
   "mimetype": "text/x-python",
   "name": "python",
   "nbconvert_exporter": "python",
   "pygments_lexer": "ipython3",
   "version": "3.9.13"
  }
 },
 "nbformat": 4,
 "nbformat_minor": 5
}
